{
 "cells": [
  {
   "cell_type": "markdown",
   "metadata": {},
   "source": [
    "# Python Basics\n",
    "\n",
    "* Arithmetic Operations\n",
    "* Control and Conditional Statements\n",
    "* Looping"
   ]
  },
  {
   "cell_type": "code",
   "execution_count": 1,
   "metadata": {},
   "outputs": [
    {
     "name": "stdout",
     "output_type": "stream",
     "text": [
      "13\n",
      "5\n",
      "36\n",
      "1\n",
      "6561\n"
     ]
    }
   ],
   "source": [
    "a = 9\n",
    "b = 4\n",
    "add = a + b \n",
    "\n",
    "sub = a - b \n",
    "\n",
    "mul = a * b \n",
    "\n",
    "mod = a % b \n",
    "\n",
    "p = a ** b \n",
    "print(add) \n",
    "print(sub) \n",
    "print(mul) \n",
    "print(mod) \n",
    "print(p) "
   ]
  },
  {
   "cell_type": "markdown",
   "metadata": {},
   "source": [
    "### Logical Operator"
   ]
  },
  {
   "cell_type": "code",
   "execution_count": 2,
   "metadata": {},
   "outputs": [
    {
     "name": "stdout",
     "output_type": "stream",
     "text": [
      "False\n",
      "True\n",
      "False\n"
     ]
    }
   ],
   "source": [
    "a = True\n",
    "b = False\n",
    "print(a and b) \n",
    "print(a or b) \n",
    "print(not a) "
   ]
  },
  {
   "cell_type": "markdown",
   "metadata": {},
   "source": [
    "### Bitwise Operator"
   ]
  },
  {
   "cell_type": "code",
   "execution_count": 3,
   "metadata": {},
   "outputs": [
    {
     "name": "stdout",
     "output_type": "stream",
     "text": [
      "0\n",
      "14\n",
      "-11\n",
      "14\n",
      "2\n",
      "40\n"
     ]
    }
   ],
   "source": [
    "a = 10\n",
    "b = 4\n",
    "print(a & b) \n",
    "print(a | b) \n",
    "print(~a) \n",
    "print(a ^ b) \n",
    "print(a >> 2) \n",
    "print(a << 2) "
   ]
  },
  {
   "cell_type": "markdown",
   "metadata": {},
   "source": [
    "### Assignment Operator"
   ]
  },
  {
   "cell_type": "code",
   "execution_count": 4,
   "metadata": {},
   "outputs": [
    {
     "name": "stdout",
     "output_type": "stream",
     "text": [
      "10\n",
      "20\n",
      "10\n",
      "100\n",
      "102400\n"
     ]
    }
   ],
   "source": [
    "a = 10\n",
    "b = a \n",
    "print(b) \n",
    "b += a \n",
    "print(b) \n",
    "b -= a \n",
    "print(b) \n",
    "b *= a \n",
    "print(b) \n",
    "b <<= a \n",
    "print(b)"
   ]
  },
  {
   "cell_type": "markdown",
   "metadata": {},
   "source": [
    "### Conditional Statement"
   ]
  },
  {
   "cell_type": "code",
   "execution_count": 5,
   "metadata": {},
   "outputs": [
    {
     "name": "stdout",
     "output_type": "stream",
     "text": [
      "i is greater than 15\n",
      "i'm in else Block\n",
      "i'm not in if and not in else Block\n"
     ]
    }
   ],
   "source": [
    "i = 20\n",
    "if (i < 15): \n",
    "    print(\"i is smaller than 15\") \n",
    "    print(\"i'm in if Block\") \n",
    "else: \n",
    "    print(\"i is greater than 15\") \n",
    "    print(\"i'm in else Block\") \n",
    "    \n",
    "print(\"i'm not in if and not in else Block\") "
   ]
  },
  {
   "cell_type": "code",
   "execution_count": 6,
   "metadata": {},
   "outputs": [
    {
     "name": "stdout",
     "output_type": "stream",
     "text": [
      "i is 20\n"
     ]
    }
   ],
   "source": [
    "i = 20\n",
    "if (i == 10): \n",
    "    print(\"i is 10\") \n",
    "elif (i == 15): \n",
    "    print(\"i is 15\") \n",
    "elif (i == 20): \n",
    "    print(\"i is 20\") \n",
    "else: \n",
    "    print(\"i is not present\") "
   ]
  },
  {
   "cell_type": "markdown",
   "metadata": {},
   "source": [
    "### Looping"
   ]
  },
  {
   "cell_type": "code",
   "execution_count": 7,
   "metadata": {},
   "outputs": [
    {
     "name": "stdout",
     "output_type": "stream",
     "text": [
      "0\n",
      "2\n",
      "4\n",
      "6\n",
      "8\n"
     ]
    }
   ],
   "source": [
    "for i in range(0, 10, 2): \n",
    "    print(i) "
   ]
  },
  {
   "cell_type": "code",
   "execution_count": 8,
   "metadata": {},
   "outputs": [
    {
     "name": "stdout",
     "output_type": "stream",
     "text": [
      "Hello Geek\n",
      "Hello Geek\n",
      "Hello Geek\n"
     ]
    }
   ],
   "source": [
    "# Python program to illustrate while loop \n",
    "count = 0\n",
    "while (count < 3): \n",
    "    count = count + 1\n",
    "    print(\"Hello Geek\")"
   ]
  },
  {
   "cell_type": "markdown",
   "metadata": {},
   "source": [
    "### Python Functions"
   ]
  },
  {
   "cell_type": "code",
   "execution_count": 9,
   "metadata": {},
   "outputs": [
    {
     "name": "stdout",
     "output_type": "stream",
     "text": [
      "even\n",
      "odd\n"
     ]
    }
   ],
   "source": [
    "# A simple Python function to check\n",
    "# whether x is even or odd\n",
    "def evenOdd(x):\n",
    "    if (x % 2 == 0):\n",
    "        print(\"even\")\n",
    "    else:\n",
    "        print(\"odd\")\n",
    "\n",
    "\n",
    "# Driver code to call the function\n",
    "evenOdd(2)\n",
    "evenOdd(3)"
   ]
  },
  {
   "cell_type": "code",
   "execution_count": null,
   "metadata": {},
   "outputs": [],
   "source": []
  }
 ],
 "metadata": {
  "kernelspec": {
   "display_name": "Python 3",
   "language": "python",
   "name": "python3"
  },
  "language_info": {
   "codemirror_mode": {
    "name": "ipython",
    "version": 3
   },
   "file_extension": ".py",
   "mimetype": "text/x-python",
   "name": "python",
   "nbconvert_exporter": "python",
   "pygments_lexer": "ipython3",
   "version": "3.10.11"
  }
 },
 "nbformat": 4,
 "nbformat_minor": 2
}
